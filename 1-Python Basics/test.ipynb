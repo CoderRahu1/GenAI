{
 "cells": [
  {
   "cell_type": "markdown",
   "id": "582b157e",
   "metadata": {},
   "source": [
    "### Python Code 1"
   ]
  },
  {
   "cell_type": "code",
   "execution_count": 6,
   "id": "dfbca8c0",
   "metadata": {},
   "outputs": [
    {
     "data": {
      "text/plain": [
       "2"
      ]
     },
     "execution_count": 6,
     "metadata": {},
     "output_type": "execute_result"
    }
   ],
   "source": [
    "1 + 1"
   ]
  },
  {
   "cell_type": "code",
   "execution_count": 7,
   "id": "ff4965ce",
   "metadata": {},
   "outputs": [
    {
     "name": "stdout",
     "output_type": "stream",
     "text": [
      "Hello world\n"
     ]
    }
   ],
   "source": [
    "print(\"Hello world\")"
   ]
  },
  {
   "cell_type": "markdown",
   "id": "b7e54de3",
   "metadata": {},
   "source": [
    "### Syntax and Semantics in Python\n",
    "Video Outline:\n",
    "\n",
    "    \"### Syntax and Semantics in Python\\n\",\n",
    "    \"Video Outline:\\n\",\n",
    "    \"- Single line Comments and multiline comments \\n\",\n",
    "    \"- Definition of Syntax and Semantics\\n\",\n",
    "    \"- Basic Syntax Rules in Python\\n\",\n",
    "    \"- Understanding Semantics in Python\\n\",\n",
    "    \"- Common Syntax Errors and How to Avoid Them\\n\",\n",
    "    \"- Practical Code Examples\"\n",
    "Syntax refers to the set of rules that defines the combinations of symbols that are considered to be correctly structured programs in a language. In simpler terms, syntax is about the correct arrangement of words and symbols in a code.\n",
    "\n",
    "Semantics refers to the meaning or the interpretation of the symbols, characters, and commands in a language. It is about what the code is supposed to do when it runs."
   ]
  },
  {
   "cell_type": "code",
   "execution_count": 13,
   "id": "34bcc32a",
   "metadata": {},
   "outputs": [
    {
     "name": "stdout",
     "output_type": "stream",
     "text": [
      "Rahul\n",
      "Pillai\n"
     ]
    }
   ],
   "source": [
    "## Basic syntax rules in python \n",
    "## Case Sensitivity - Python is case sensitive\n",
    "\n",
    "\n",
    "name = \"Rahul\"\n",
    "Name = \"Pillai\"\n",
    "\n",
    "print(name)\n",
    "print(Name)\n"
   ]
  },
  {
   "cell_type": "markdown",
   "id": "508431f6",
   "metadata": {},
   "source": [
    "### Indentation\n",
    "## Python uses indentation to define blocks of code. Consistent use of spaces commonly 4\n",
    "\n",
    "    \"Indentation in Python is used to define the structure and hierarchy of the code. \"\n",
    "    \"Unlike many other programming languages that use braces {} to delimit blocks of code, \"\n",
    "    \"Python uses indentation to determine the grouping of statements. \"\n",
    "    \"This means that all the statements within a block must be indented at the same level.\"\n"
   ]
  },
  {
   "cell_type": "code",
   "execution_count": 17,
   "id": "a4d3f692",
   "metadata": {},
   "outputs": [
    {
     "name": "stdout",
     "output_type": "stream",
     "text": [
      "32\n"
     ]
    }
   ],
   "source": [
    "age=32\n",
    "if age>30:\n",
    "    print(age)\n",
    "\n"
   ]
  },
  {
   "cell_type": "code",
   "execution_count": 19,
   "id": "16241a21",
   "metadata": {},
   "outputs": [
    {
     "name": "stdout",
     "output_type": "stream",
     "text": [
      "Hello World\n"
     ]
    }
   ],
   "source": [
    "## This is a single line comment\n",
    "print(\"Hello World\")"
   ]
  },
  {
   "cell_type": "code",
   "execution_count": 21,
   "id": "a9a1313c",
   "metadata": {},
   "outputs": [
    {
     "name": "stdout",
     "output_type": "stream",
     "text": [
      "43\n"
     ]
    }
   ],
   "source": [
    "## Line Continuation\n",
    "\n",
    "total = 1 + 2 + 3 + 4 + 5 + 6 + 7 +\\\n",
    "4 + 5 + 6\n",
    "\n",
    "print(total)"
   ]
  },
  {
   "cell_type": "code",
   "execution_count": 23,
   "id": "699f40b2",
   "metadata": {},
   "outputs": [
    {
     "name": "stdout",
     "output_type": "stream",
     "text": [
      "15\n"
     ]
    }
   ],
   "source": [
    "## Multiple statements on a single line\n",
    "\n",
    "x = 5;y=10;z=x+y\n",
    "print(z)"
   ]
  },
  {
   "cell_type": "code",
   "execution_count": 30,
   "id": "67587207",
   "metadata": {},
   "outputs": [
    {
     "data": {
      "text/plain": [
       "int"
      ]
     },
     "execution_count": 30,
     "metadata": {},
     "output_type": "execute_result"
    }
   ],
   "source": [
    "## Understand semantics in python\n",
    "# Variable assignment\n",
    "age = 32 ## here kernal will understand that age is a integer\n",
    "\n",
    "name = \"Rahul\" ## name is a string\n",
    "\n",
    "type(age)\n"
   ]
  },
  {
   "cell_type": "code",
   "execution_count": 33,
   "id": "6b1a13c6",
   "metadata": {},
   "outputs": [
    {
     "name": "stdout",
     "output_type": "stream",
     "text": [
      "<class 'int'>\n",
      "<class 'str'>\n"
     ]
    }
   ],
   "source": [
    "## Type Inference \n",
    "variable = 10\n",
    "print(type(variable))\n",
    "variable = \"Rahul\"\n",
    "print(type(variable))"
   ]
  },
  {
   "cell_type": "code",
   "execution_count": 34,
   "id": "e04ea2f6",
   "metadata": {},
   "outputs": [
    {
     "name": "stdout",
     "output_type": "stream",
     "text": [
      "Correct Indentation\n",
      "This will print\n",
      "Outside the if block\n"
     ]
    }
   ],
   "source": [
    "## Code example of indentation\n",
    "\n",
    "if True:\n",
    "    print(\"Correct Indentation\")\n",
    "    if False:\n",
    "        print(\"This false print\")\n",
    "    print(\"This will print\")\n",
    "\n",
    "print(\"Outside the if block\")\n"
   ]
  },
  {
   "cell_type": "code",
   "execution_count": null,
   "id": "aabd651a",
   "metadata": {},
   "outputs": [],
   "source": []
  }
 ],
 "metadata": {
  "kernelspec": {
   "display_name": "Python 3",
   "language": "python",
   "name": "python3"
  },
  "language_info": {
   "codemirror_mode": {
    "name": "ipython",
    "version": 3
   },
   "file_extension": ".py",
   "mimetype": "text/x-python",
   "name": "python",
   "nbconvert_exporter": "python",
   "pygments_lexer": "ipython3",
   "version": "3.12.0"
  }
 },
 "nbformat": 4,
 "nbformat_minor": 5
}
