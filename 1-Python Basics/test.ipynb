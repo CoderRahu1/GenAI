{
 "cells": [
  {
   "cell_type": "markdown",
   "id": "582b157e",
   "metadata": {},
   "source": [
    "### Python Code 1"
   ]
  },
  {
   "cell_type": "code",
   "execution_count": 6,
   "id": "dfbca8c0",
   "metadata": {},
   "outputs": [
    {
     "data": {
      "text/plain": [
       "2"
      ]
     },
     "execution_count": 6,
     "metadata": {},
     "output_type": "execute_result"
    }
   ],
   "source": [
    "1 + 1"
   ]
  },
  {
   "cell_type": "code",
   "execution_count": 7,
   "id": "ff4965ce",
   "metadata": {},
   "outputs": [
    {
     "name": "stdout",
     "output_type": "stream",
     "text": [
      "Hello world\n"
     ]
    }
   ],
   "source": [
    "print(\"Hello world\")"
   ]
  },
  {
   "cell_type": "markdown",
   "id": "b7e54de3",
   "metadata": {},
   "source": [
    "### Syntax and Semantics in Python\n",
    "Video Outline:\n",
    "\n",
    "    \"### Syntax and Semantics in Python\\n\",\n",
    "    \"Video Outline:\\n\",\n",
    "    \"- Single line Comments and multiline comments \\n\",\n",
    "    \"- Definition of Syntax and Semantics\\n\",\n",
    "    \"- Basic Syntax Rules in Python\\n\",\n",
    "    \"- Understanding Semantics in Python\\n\",\n",
    "    \"- Common Syntax Errors and How to Avoid Them\\n\",\n",
    "    \"- Practical Code Examples\"\n",
    "Syntax refers to the set of rules that defines the combinations of symbols that are considered to be correctly structured programs in a language. In simpler terms, syntax is about the correct arrangement of words and symbols in a code.\n",
    "\n",
    "Semantics refers to the meaning or the interpretation of the symbols, characters, and commands in a language. It is about what the code is supposed to do when it runs."
   ]
  },
  {
   "cell_type": "code",
   "execution_count": null,
   "id": "34bcc32a",
   "metadata": {},
   "outputs": [],
   "source": []
  }
 ],
 "metadata": {
  "kernelspec": {
   "display_name": "Python 3",
   "language": "python",
   "name": "python3"
  },
  "language_info": {
   "codemirror_mode": {
    "name": "ipython",
    "version": 3
   },
   "file_extension": ".py",
   "mimetype": "text/x-python",
   "name": "python",
   "nbconvert_exporter": "python",
   "pygments_lexer": "ipython3",
   "version": "3.12.0"
  }
 },
 "nbformat": 4,
 "nbformat_minor": 5
}
