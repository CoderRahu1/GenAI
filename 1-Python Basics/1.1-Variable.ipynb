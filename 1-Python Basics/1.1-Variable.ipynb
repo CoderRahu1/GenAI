{
 "cells": [
  {
   "cell_type": "markdown",
   "id": "0471d2a0",
   "metadata": {},
   "source": [
    "### Variables\n",
    "    \"Variables are fundamental elements in programming used to store data that can be referenced and manipulated in a program. In Python, variables are created when you assign a value to them, and they do not need explicit declaration to reserve memory space. The declaration happens automatically when you assign a value to a variable.\\n\",\n",
    "    \"\\n\",\n",
    "    \"Video Outline:\\n\",\n",
    "    \"- Introduction to Variables\\n\",\n",
    "    \"- Declaring and Assigning Variables\\n\",\n",
    "    \"- Naming Conventions\\n\",\n",
    "    \"- Understanding Variable Types\\n\",\n",
    "    \"- Type Checking and Conversion\\n\",\n",
    "    \"- Dynamic Typing\\n\",\n",
    "    \"- Practical Examples and Common Errors\""
   ]
  },
  {
   "cell_type": "code",
   "execution_count": 1,
   "id": "7f9f7cff",
   "metadata": {},
   "outputs": [
    {
     "name": "stdout",
     "output_type": "stream",
     "text": [
      "age: 25\n",
      "Height: 6.5\n",
      "Name: Rahul\n"
     ]
    }
   ],
   "source": [
    "## Delaring and assigning variable\n",
    "\n",
    "age = 25\n",
    "height = 6.5\n",
    "name = \"Rahul\"\n",
    "is_student=True\n",
    "\n",
    "## printing variable\n",
    "\n",
    "print(\"age:\", age)\n",
    "print(\"Height:\", height)\n",
    "print(\"Name:\",name)\n",
    "\n",
    "\n"
   ]
  },
  {
   "cell_type": "code",
   "execution_count": 2,
   "id": "82214153",
   "metadata": {},
   "outputs": [],
   "source": [
    "## Naming conventions\n",
    "## Variable names should be descriptive\n",
    "## They must start with a letter or an '_' and can contain letter, number, and underscores\n",
    "## Variables names are case sensitive\n",
    "\n",
    "#valid variable names\n",
    "first_name = \"Rahul\"\n",
    "last_name = \"Pillai\"\n"
   ]
  },
  {
   "cell_type": "code",
   "execution_count": 3,
   "id": "e40aaadd",
   "metadata": {},
   "outputs": [],
   "source": [
    "#Invalid Variable name \n",
    "##2age =30\n",
    "##first-name = \"Rahul\"\n",
    "##@name=\"Rahul\""
   ]
  },
  {
   "cell_type": "code",
   "execution_count": 4,
   "id": "27d375c8",
   "metadata": {},
   "outputs": [
    {
     "name": "stdout",
     "output_type": "stream",
     "text": [
      "<class 'str'>\n"
     ]
    }
   ],
   "source": [
    "## Undestanding variable types\n",
    "## Python is dynamically typed, type of a variable is dynamically determined\n",
    "age = 25 #int\n",
    "height = 6.1 #float\n",
    "name = \"Rahul\"\n",
    "is_student=True #Boolean\n",
    "print(type(name))"
   ]
  },
  {
   "cell_type": "code",
   "execution_count": 5,
   "id": "0101bd91",
   "metadata": {},
   "outputs": [
    {
     "data": {
      "text/plain": [
       "float"
      ]
     },
     "execution_count": 5,
     "metadata": {},
     "output_type": "execute_result"
    }
   ],
   "source": [
    "## Type checking and conversion \n",
    "\n",
    "type(height)"
   ]
  },
  {
   "cell_type": "code",
   "execution_count": 6,
   "id": "19d3f5c4",
   "metadata": {},
   "outputs": [
    {
     "name": "stdout",
     "output_type": "stream",
     "text": [
      "<class 'int'>\n",
      "25\n",
      "<class 'str'>\n"
     ]
    }
   ],
   "source": [
    "age= 25\n",
    "print(type(age))\n",
    "\n",
    "##Type conversion \n",
    "\n",
    "age_str = str(age)\n",
    "print(age_str)\n",
    "\n",
    "print(type(age_str))\n",
    "\n"
   ]
  },
  {
   "cell_type": "code",
   "execution_count": 7,
   "id": "57b72bf2",
   "metadata": {},
   "outputs": [
    {
     "name": "stdout",
     "output_type": "stream",
     "text": [
      "10 <class 'int'>\n",
      "Hello <class 'str'>\n"
     ]
    }
   ],
   "source": [
    "## Dynamic typing \n",
    "## Python allows the type of the variable to change as the program exxecutes\n",
    "var=10\n",
    "print(var,type(var))\n",
    "\n",
    "var=\"Hello\"\n",
    "print(var,type(var))\n",
    "\n"
   ]
  },
  {
   "cell_type": "code",
   "execution_count": 3,
   "id": "c932d562",
   "metadata": {},
   "outputs": [
    {
     "name": "stdout",
     "output_type": "stream",
     "text": [
      "23 <class 'str'>\n"
     ]
    }
   ],
   "source": [
    "## Input \n",
    "\n",
    "age=input(\"What is your age\")\n",
    "print(age, type(age))"
   ]
  },
  {
   "cell_type": "code",
   "execution_count": 4,
   "id": "e5f09ca3",
   "metadata": {},
   "outputs": [
    {
     "name": "stdout",
     "output_type": "stream",
     "text": [
      "Sum: 24.0\n",
      "Difference: 0.0\n",
      "Product: 144.0\n",
      "Quotient: 1.0\n"
     ]
    }
   ],
   "source": [
    "## Simple calculator\n",
    "\n",
    "num1 = float(input(\"Enter first number\"))\n",
    "num2 = float(input(\"Enter second number\"))\n",
    "\n",
    "sum = num1 + num2\n",
    "difference = num1 - num2\n",
    "product = num1 * num2\n",
    "quotient = num1 / num2\n",
    "\n",
    "print(\"Sum:\", sum)\n",
    "print(\"Difference:\", difference)\n",
    "print(\"Product:\", product)\n",
    "print(\"Quotient:\", quotient)\n"
   ]
  },
  {
   "cell_type": "code",
   "execution_count": null,
   "id": "281ea6bc",
   "metadata": {},
   "outputs": [],
   "source": []
  }
 ],
 "metadata": {
  "kernelspec": {
   "display_name": "Python 3",
   "language": "python",
   "name": "python3"
  },
  "language_info": {
   "codemirror_mode": {
    "name": "ipython",
    "version": 3
   },
   "file_extension": ".py",
   "mimetype": "text/x-python",
   "name": "python",
   "nbconvert_exporter": "python",
   "pygments_lexer": "ipython3",
   "version": "3.12.0"
  }
 },
 "nbformat": 4,
 "nbformat_minor": 5
}
