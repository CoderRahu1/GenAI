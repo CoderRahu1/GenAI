{
 "cells": [
  {
   "cell_type": "markdown",
   "id": "c4208917",
   "metadata": {},
   "source": [
    "   \n",
    "   # Deep Dive into Operators\n",
    "   \n",
    "   \"1. Introduction to Operators\\n\",\n",
    "    \"2. Arithmetic Operators\\n\",\n",
    "    \"   - Addition\\n\",\n",
    "    \"   - Subtraction\\n\",\n",
    "    \"   - Multiplication\\n\",\n",
    "    \"   - Division\\n\",\n",
    "    \"   - Floor Division\\n\",\n",
    "    \"   - Modulus\\n\",\n",
    "    \"   - Exponentiation\\n\",\n",
    "    \"3. Comparison Operators\\n\",\n",
    "    \"   - Equal to\\n\",\n",
    "    \"   - Not equal to\\n\",\n",
    "    \"   - Greater than\\n\",\n",
    "    \"   - Less than\\n\",\n",
    "    \"   - Greater than or equal to \\n\",\n",
    "    \"   - Less than or equal to\\n\",\n",
    "    \"4. Logical Operators\\n\",\n",
    "    \"   - AND\\n\",\n",
    "    \"   - OR\\n\",\n",
    "    \"   - NOT\\n\",\n",
    "    \"5. Practical Examples and Common Errors\""
   ]
  },
  {
   "cell_type": "code",
   "execution_count": 9,
   "id": "73080b58",
   "metadata": {},
   "outputs": [
    {
     "name": "stdout",
     "output_type": "stream",
     "text": [
      "15\n",
      "2\n",
      "100000\n",
      "0\n"
     ]
    }
   ],
   "source": [
    "a=10\n",
    "b=5\n",
    "\n",
    "result = a + b\n",
    "print(result)\n",
    "floor_result = a//b\n",
    "print(floor_result)\n",
    "\n",
    "exponent_result = a**b\n",
    "print(exponent_result)\n",
    "\n",
    "modulus_result = a%b\n",
    "print(modulus_result)"
   ]
  },
  {
   "cell_type": "code",
   "execution_count": 10,
   "id": "625912d1",
   "metadata": {},
   "outputs": [
    {
     "data": {
      "text/plain": [
       "True"
      ]
     },
     "execution_count": 10,
     "metadata": {},
     "output_type": "execute_result"
    }
   ],
   "source": [
    "## Comparision Operators\n",
    "## == \n",
    "a=10\n",
    "b=10\n",
    "\n",
    "a==b"
   ]
  },
  {
   "cell_type": "code",
   "execution_count": 11,
   "id": "d774a152",
   "metadata": {},
   "outputs": [
    {
     "data": {
      "text/plain": [
       "False"
      ]
     },
     "execution_count": 11,
     "metadata": {},
     "output_type": "execute_result"
    }
   ],
   "source": [
    "## != Not equal to\n",
    "\n",
    "a != b"
   ]
  },
  {
   "cell_type": "code",
   "execution_count": 12,
   "id": "99988026",
   "metadata": {},
   "outputs": [
    {
     "data": {
      "text/plain": [
       "False"
      ]
     },
     "execution_count": 12,
     "metadata": {},
     "output_type": "execute_result"
    }
   ],
   "source": [
    "# Greater Than\n",
    "\n",
    "num1=45\n",
    "num2=55\n",
    "\n",
    "num1>num2"
   ]
  },
  {
   "cell_type": "code",
   "execution_count": 13,
   "id": "44ff42eb",
   "metadata": {},
   "outputs": [
    {
     "data": {
      "text/plain": [
       "True"
      ]
     },
     "execution_count": 13,
     "metadata": {},
     "output_type": "execute_result"
    }
   ],
   "source": [
    "# less Than\n",
    "\n",
    "num1=45\n",
    "num2=55\n",
    "\n",
    "num1<num2"
   ]
  },
  {
   "cell_type": "code",
   "execution_count": 14,
   "id": "0bb4e050",
   "metadata": {},
   "outputs": [
    {
     "name": "stdout",
     "output_type": "stream",
     "text": [
      "True\n"
     ]
    }
   ],
   "source": [
    "#Greater than equal to \n",
    "num1=45\n",
    "num2=45\n",
    "\n",
    "print(num1>=num2)"
   ]
  },
  {
   "cell_type": "markdown",
   "id": "0d59b3d2",
   "metadata": {},
   "source": [
    "### Logical Operators"
   ]
  },
  {
   "cell_type": "code",
   "execution_count": 16,
   "id": "c8d4ffeb",
   "metadata": {},
   "outputs": [
    {
     "name": "stdout",
     "output_type": "stream",
     "text": [
      "True\n"
     ]
    }
   ],
   "source": [
    "## AND, NOT, OR\n",
    "\n",
    "X = True\n",
    "Y = True\n",
    "\n",
    "result = X and Y\n",
    "\n",
    "print(result)"
   ]
  },
  {
   "cell_type": "code",
   "execution_count": 17,
   "id": "2593ba9e",
   "metadata": {},
   "outputs": [
    {
     "name": "stdout",
     "output_type": "stream",
     "text": [
      "False\n"
     ]
    }
   ],
   "source": [
    "## AND, NOT, OR\n",
    "## If both boolean true then only true\n",
    "X = True\n",
    "Y = False\n",
    "\n",
    "result = X and Y\n",
    "\n",
    "print(result)"
   ]
  },
  {
   "cell_type": "code",
   "execution_count": 18,
   "id": "a938c178",
   "metadata": {},
   "outputs": [
    {
     "name": "stdout",
     "output_type": "stream",
     "text": [
      "True\n"
     ]
    }
   ],
   "source": [
    "## OR\n",
    "## If both boolean true then only true\n",
    "X = True\n",
    "Y = False\n",
    "\n",
    "result = X or Y\n",
    "\n",
    "print(result)"
   ]
  },
  {
   "cell_type": "code",
   "execution_count": null,
   "id": "afdc4ef5",
   "metadata": {},
   "outputs": [
    {
     "data": {
      "text/plain": [
       "True"
      ]
     },
     "execution_count": 19,
     "metadata": {},
     "output_type": "execute_result"
    },
    {
     "ename": "",
     "evalue": "",
     "output_type": "error",
     "traceback": [
      "\u001b[1;31mThe Kernel crashed while executing code in the current cell or a previous cell. \n",
      "\u001b[1;31mPlease review the code in the cell(s) to identify a possible cause of the failure. \n",
      "\u001b[1;31mClick <a href='https://aka.ms/vscodeJupyterKernelCrash'>here</a> for more info. \n",
      "\u001b[1;31mView Jupyter <a href='command:jupyter.viewOutput'>log</a> for further details."
     ]
    }
   ],
   "source": [
    "## Not Operator\n",
    "\n",
    "X = False\n",
    "\n",
    "not X"
   ]
  },
  {
   "cell_type": "code",
   "execution_count": null,
   "id": "ff3f25fa",
   "metadata": {},
   "outputs": [],
   "source": []
  }
 ],
 "metadata": {
  "kernelspec": {
   "display_name": "Python 3",
   "language": "python",
   "name": "python3"
  },
  "language_info": {
   "codemirror_mode": {
    "name": "ipython",
    "version": 3
   },
   "file_extension": ".py",
   "mimetype": "text/x-python",
   "name": "python",
   "nbconvert_exporter": "python",
   "pygments_lexer": "ipython3",
   "version": "3.12.0"
  }
 },
 "nbformat": 4,
 "nbformat_minor": 5
}
