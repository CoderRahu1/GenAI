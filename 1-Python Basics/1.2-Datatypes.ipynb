{
 "cells": [
  {
   "cell_type": "markdown",
   "id": "35c0fa96",
   "metadata": {},
   "source": [
    "## DataTypes\n",
    "#### 1. Definition:,\n",
    " \n",
    "    \"- Data types are a classification of data which tell the compiler or interpreter how the programmer intends to use the data.\\n\",\n",
    "    \"- They determine the type of operations that can be performed on the data, the values that the data can take, and the amount of memory needed to store the data.\\n\",\n",
    "    \"\\n\",\n",
    "    \"#### 2. Importance of Data Types in Programming\\n\",\n",
    "    \"Explanation:\\n\",\n",
    "    \"\\n\",\n",
    "    \"- Data types ensure that data is stored in an efficient way.\\n\",\n",
    "    \"- They help in performing correct operations on data.\\n\",\n",
    "    \"- Proper use of data types can prevent errors and bugs in the program.\""
   ]
  },
  {
   "cell_type": "markdown",
   "id": "9a9d3822",
   "metadata": {},
   "source": [
    "    \"1. Introduction to Data Types\\n\",\n",
    "    \"2. Importance of Data Types in Programming\\n\",\n",
    "    \"3. Basic Data Types\\n\",\n",
    "    \"   - Integers\\n\",\n",
    "    \"   - Floating-point numbers\\n\",\n",
    "    \"   - Strings\\n\",\n",
    "    \"   - Booleans\\n\",\n",
    "    \"4. Advanced Data Types\\n\",\n",
    "    \"   - Lists\\n\",\n",
    "    \"   - Tuples\\n\",\n",
    "    \"   - Sets\\n\",\n",
    "    \"   - Dictionaries\\n\",\n",
    "    \"5. Type Conversion\\n\",\n",
    "    \"6. Practical Examples\""
   ]
  },
  {
   "cell_type": "code",
   "execution_count": 1,
   "id": "1c73b0f9",
   "metadata": {},
   "outputs": [
    {
     "name": "stdout",
     "output_type": "stream",
     "text": [
      "10 <class 'int'>\n"
     ]
    }
   ],
   "source": [
    "a = 10\n",
    "\n",
    "print(a, type(a))"
   ]
  },
  {
   "cell_type": "code",
   "execution_count": 2,
   "id": "491cc0c1",
   "metadata": {},
   "outputs": [
    {
     "data": {
      "text/plain": [
       "bool"
      ]
     },
     "execution_count": 2,
     "metadata": {},
     "output_type": "execute_result"
    }
   ],
   "source": [
    "a=10\n",
    "b=10\n",
    "type(a==b)"
   ]
  },
  {
   "cell_type": "code",
   "execution_count": 4,
   "id": "38af7bab",
   "metadata": {},
   "outputs": [
    {
     "name": "stdout",
     "output_type": "stream",
     "text": [
      "Hello5\n"
     ]
    }
   ],
   "source": [
    "str= \"Hello\" + str(5)\n",
    "print(str)"
   ]
  },
  {
   "cell_type": "code",
   "execution_count": null,
   "id": "7ff8df18",
   "metadata": {},
   "outputs": [],
   "source": []
  }
 ],
 "metadata": {
  "kernelspec": {
   "display_name": "Python 3",
   "language": "python",
   "name": "python3"
  },
  "language_info": {
   "codemirror_mode": {
    "name": "ipython",
    "version": 3
   },
   "file_extension": ".py",
   "mimetype": "text/x-python",
   "name": "python",
   "nbconvert_exporter": "python",
   "pygments_lexer": "ipython3",
   "version": "3.12.0"
  }
 },
 "nbformat": 4,
 "nbformat_minor": 5
}
