{
 "cells": [
  {
   "cell_type": "markdown",
   "id": "765499e3",
   "metadata": {},
   "source": [
    "#### Conditional Statements (if, elif, else),\n",
    "    \"Video Outline:\\n\",\n",
    "    \"1. Introduction to Conditional Statements\\n\",\n",
    "    \"2. if Statement\\n\",\n",
    "    \"3. else Statement\\n\",\n",
    "    \"4. elif Statement\\n\",\n",
    "    \"5. Nested Conditional Statements\\n\",\n",
    "    \"6. Practical Examples\\n\",\n",
    "    \"7. Common Errors and Best Practices\""
   ]
  },
  {
   "cell_type": "code",
   "execution_count": 1,
   "id": "bd9559aa",
   "metadata": {},
   "outputs": [
    {
     "name": "stdout",
     "output_type": "stream",
     "text": [
      "You are allowed to vote\n"
     ]
    }
   ],
   "source": [
    "## if statement\n",
    "\n",
    "age = 20\n",
    "if age>=18:\n",
    "    print(\"You are allowed to vote\")\n",
    "    "
   ]
  },
  {
   "cell_type": "code",
   "execution_count": 2,
   "id": "7955b8aa",
   "metadata": {},
   "outputs": [
    {
     "data": {
      "text/plain": [
       "True"
      ]
     },
     "execution_count": 2,
     "metadata": {},
     "output_type": "execute_result"
    }
   ],
   "source": [
    "age >=18"
   ]
  },
  {
   "cell_type": "code",
   "execution_count": 3,
   "id": "f93c510c",
   "metadata": {},
   "outputs": [
    {
     "name": "stdout",
     "output_type": "stream",
     "text": [
      "You are not allowed to vote\n"
     ]
    }
   ],
   "source": [
    "## else\n",
    "## The else statement executes a block of code if the if statement is false\n",
    "\n",
    "age = 16\n",
    "\n",
    "if age>=18:\n",
    "    print(\"you are allowed to vote\")\n",
    "\n",
    "else:\n",
    "    print(\"You are not allowed to vote\")\n",
    "    "
   ]
  },
  {
   "cell_type": "code",
   "execution_count": 7,
   "id": "3e607c52",
   "metadata": {},
   "outputs": [
    {
     "name": "stdout",
     "output_type": "stream",
     "text": [
      "You can Vote\n"
     ]
    }
   ],
   "source": [
    "## elif\n",
    "## This allows you to check mutiple condition. It stands for else if\n",
    "\n",
    "age = int(input(\"Please enter your age\"))\n",
    "\n",
    "if age>=18:\n",
    "    print(\"You can Vote\")\n",
    "elif age==16:\n",
    "    print(\"You are 16\")\n",
    "else:\n",
    "    print(\"You can't Vote\")"
   ]
  },
  {
   "cell_type": "code",
   "execution_count": 12,
   "id": "922ce794",
   "metadata": {},
   "outputs": [
    {
     "name": "stdout",
     "output_type": "stream",
     "text": [
      "The number -12 is zero or negative\n"
     ]
    }
   ],
   "source": [
    "## Nested Conditional statements\n",
    "## You can create nested if elif,else conditions\n",
    "\n",
    "\n",
    "num = int(input(\"Enter the number\"))\n",
    "\n",
    "if num>0:\n",
    "    print(\"The number is positive\")\n",
    "    if num%2==0:\n",
    "        print(\"The number is even\")\n",
    "    else:\n",
    "        print(\"The number is odd\")\n",
    "else:\n",
    "    print(\"The number \" + str(num) + \" is zero or negative\")\n",
    "\n",
    "\n",
    "\n",
    "\n"
   ]
  },
  {
   "cell_type": "code",
   "execution_count": 16,
   "id": "431a32bc",
   "metadata": {},
   "outputs": [
    {
     "name": "stdout",
     "output_type": "stream",
     "text": [
      "2001 Is not a leap year\n"
     ]
    }
   ],
   "source": [
    "## Practical Example\n",
    "\n",
    "## Determine if a year is a leap year using nested conditional statement\n",
    "\n",
    "year = int(input(\"Enter the four digit year\"))\n",
    "\n",
    "if year%4==0:\n",
    "    if year%100==0:\n",
    "        if year%400==0:\n",
    "            print(year,\"Is a leap year\")\n",
    "else:\n",
    "    print(year,\"Is not a leap year\")\n",
    "\n",
    "\n",
    "\n"
   ]
  },
  {
   "cell_type": "code",
   "execution_count": 17,
   "id": "21f9e1ea",
   "metadata": {},
   "outputs": [],
   "source": [
    "## Assignment\n",
    "## 1. Build a simple calculator\n",
    "## 2. Determine the ticket price based on age of student"
   ]
  },
  {
   "cell_type": "code",
   "execution_count": null,
   "id": "b81473c3",
   "metadata": {},
   "outputs": [],
   "source": []
  }
 ],
 "metadata": {
  "kernelspec": {
   "display_name": "Python 3",
   "language": "python",
   "name": "python3"
  },
  "language_info": {
   "codemirror_mode": {
    "name": "ipython",
    "version": 3
   },
   "file_extension": ".py",
   "mimetype": "text/x-python",
   "name": "python",
   "nbconvert_exporter": "python",
   "pygments_lexer": "ipython3",
   "version": "3.12.0"
  }
 },
 "nbformat": 4,
 "nbformat_minor": 5
}
