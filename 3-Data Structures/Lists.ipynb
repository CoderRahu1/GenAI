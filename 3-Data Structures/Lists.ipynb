{
 "cells": [
  {
   "cell_type": "markdown",
   "id": "ad1532cf",
   "metadata": {},
   "source": [
    "#### Introduction To Lists\n",
    "    \"- Lists are ordered, mutable collections of items.\\n\",\n",
    "    \"- They can contain items of different data types.\""
   ]
  },
  {
   "cell_type": "markdown",
   "id": "6e3d3b47",
   "metadata": {},
   "source": [
    "    \"1. Introduction to Lists\\n\",\n",
    "    \"2. Creating Lists\\n\",\n",
    "    \"3. Accessing List Elements\\n\",\n",
    "    \"4. Modifying List Elements\\n\",\n",
    "    \"5. List Methods\\n\",\n",
    "    \"6. Slicing Lists\\n\",\n",
    "    \"7. Iterating Over Lists\\n\",\n",
    "    \"8. List Comprehensions\\n\",\n",
    "    \"9. Nested Lists\\n\",\n",
    "    \"10. Practical Examples and Common Errors\""
   ]
  }
 ],
 "metadata": {
  "language_info": {
   "name": "python"
  }
 },
 "nbformat": 4,
 "nbformat_minor": 5
}
